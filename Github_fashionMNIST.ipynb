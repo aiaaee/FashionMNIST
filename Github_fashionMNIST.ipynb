{
  "nbformat": 4,
  "nbformat_minor": 0,
  "metadata": {
    "colab": {
      "provenance": [],
      "authorship_tag": "ABX9TyOfJQDQ0ZM6e2cBzqRVdkSg",
      "include_colab_link": true
    },
    "kernelspec": {
      "name": "python3",
      "display_name": "Python 3"
    },
    "language_info": {
      "name": "python"
    }
  },
  "cells": [
    {
      "cell_type": "markdown",
      "metadata": {
        "id": "view-in-github",
        "colab_type": "text"
      },
      "source": [
        "<a href=\"https://colab.research.google.com/github/aiaaee/FashionMNIST/blob/main/Github_fashionMNIST.ipynb\" target=\"_parent\"><img src=\"https://colab.research.google.com/assets/colab-badge.svg\" alt=\"Open In Colab\"/></a>"
      ]
    },
    {
      "cell_type": "code",
      "source": [
        "import pandas as pd\n",
        "import numpy as np\n",
        "import matplotlib.pyplot as plt\n",
        "import os\n",
        "import sys\n",
        "import shutil\n",
        "import torch\n",
        "import torch.nn.functional as f\n",
        "from torch import nn , optim\n",
        "from torch.utils.data import DataLoader\n",
        "from torchvision import datasets\n",
        "from torchvision.transforms import ToTensor\n",
        "from tqdm import tqdm\n",
        "from torch.utils.data import random_split\n",
        "from torchsummary import summary"
      ],
      "metadata": {
        "id": "yepr3a4-RisU"
      },
      "execution_count": 2,
      "outputs": []
    },
    {
      "cell_type": "code",
      "execution_count": 3,
      "metadata": {
        "colab": {
          "base_uri": "https://localhost:8080/"
        },
        "id": "GujzS8qnPttY",
        "outputId": "c65aac1e-fcdf-4f1c-b314-0f476fb32ad0"
      },
      "outputs": [
        {
          "output_type": "execute_result",
          "data": {
            "text/plain": [
              "device(type='cpu')"
            ]
          },
          "metadata": {},
          "execution_count": 3
        }
      ],
      "source": [
        "device = torch.device(\"cuda\" if torch.cuda.is_available() else \"cpu\")\n",
        "device"
      ]
    },
    {
      "cell_type": "code",
      "source": [
        "train_dataset = datasets.FashionMNIST('./data' , train=True , download=True , transform=ToTensor())\n",
        "test_dataset = datasets.FashionMNIST('./data' , train=False , download=True ,  transform=ToTensor())"
      ],
      "metadata": {
        "id": "GJNjJZrRSUmb",
        "colab": {
          "base_uri": "https://localhost:8080/"
        },
        "outputId": "38db5846-0671-49b7-f2c1-fc6344604b1d"
      },
      "execution_count": 4,
      "outputs": [
        {
          "output_type": "stream",
          "name": "stdout",
          "text": [
            "Downloading http://fashion-mnist.s3-website.eu-central-1.amazonaws.com/train-images-idx3-ubyte.gz\n",
            "Downloading http://fashion-mnist.s3-website.eu-central-1.amazonaws.com/train-images-idx3-ubyte.gz to ./data/FashionMNIST/raw/train-images-idx3-ubyte.gz\n"
          ]
        },
        {
          "output_type": "stream",
          "name": "stderr",
          "text": [
            "100%|██████████| 26421880/26421880 [00:02<00:00, 12407123.74it/s]\n"
          ]
        },
        {
          "output_type": "stream",
          "name": "stdout",
          "text": [
            "Extracting ./data/FashionMNIST/raw/train-images-idx3-ubyte.gz to ./data/FashionMNIST/raw\n",
            "\n",
            "Downloading http://fashion-mnist.s3-website.eu-central-1.amazonaws.com/train-labels-idx1-ubyte.gz\n",
            "Downloading http://fashion-mnist.s3-website.eu-central-1.amazonaws.com/train-labels-idx1-ubyte.gz to ./data/FashionMNIST/raw/train-labels-idx1-ubyte.gz\n"
          ]
        },
        {
          "output_type": "stream",
          "name": "stderr",
          "text": [
            "100%|██████████| 29515/29515 [00:00<00:00, 199474.52it/s]\n"
          ]
        },
        {
          "output_type": "stream",
          "name": "stdout",
          "text": [
            "Extracting ./data/FashionMNIST/raw/train-labels-idx1-ubyte.gz to ./data/FashionMNIST/raw\n",
            "\n",
            "Downloading http://fashion-mnist.s3-website.eu-central-1.amazonaws.com/t10k-images-idx3-ubyte.gz\n",
            "Downloading http://fashion-mnist.s3-website.eu-central-1.amazonaws.com/t10k-images-idx3-ubyte.gz to ./data/FashionMNIST/raw/t10k-images-idx3-ubyte.gz\n"
          ]
        },
        {
          "output_type": "stream",
          "name": "stderr",
          "text": [
            "100%|██████████| 4422102/4422102 [00:01<00:00, 3731105.75it/s]\n"
          ]
        },
        {
          "output_type": "stream",
          "name": "stdout",
          "text": [
            "Extracting ./data/FashionMNIST/raw/t10k-images-idx3-ubyte.gz to ./data/FashionMNIST/raw\n",
            "\n",
            "Downloading http://fashion-mnist.s3-website.eu-central-1.amazonaws.com/t10k-labels-idx1-ubyte.gz\n",
            "Downloading http://fashion-mnist.s3-website.eu-central-1.amazonaws.com/t10k-labels-idx1-ubyte.gz to ./data/FashionMNIST/raw/t10k-labels-idx1-ubyte.gz\n"
          ]
        },
        {
          "output_type": "stream",
          "name": "stderr",
          "text": [
            "100%|██████████| 5148/5148 [00:00<00:00, 14569687.58it/s]"
          ]
        },
        {
          "output_type": "stream",
          "name": "stdout",
          "text": [
            "Extracting ./data/FashionMNIST/raw/t10k-labels-idx1-ubyte.gz to ./data/FashionMNIST/raw\n",
            "\n"
          ]
        },
        {
          "output_type": "stream",
          "name": "stderr",
          "text": [
            "\n"
          ]
        }
      ]
    },
    {
      "cell_type": "code",
      "source": [
        "train_ds , val_ds = random_split(train_dataset , [50000 , 10000])"
      ],
      "metadata": {
        "id": "kg27Q5X1TfWm"
      },
      "execution_count": 5,
      "outputs": []
    },
    {
      "cell_type": "code",
      "source": [
        "print('train dataset: '  , train_dataset.data.shape)\n",
        "print('test dataset : '  , test_dataset.data.shape )"
      ],
      "metadata": {
        "colab": {
          "base_uri": "https://localhost:8080/"
        },
        "id": "0WasCSR3TyZJ",
        "outputId": "c971c39d-87d0-435f-dd4e-d8201dfd6555"
      },
      "execution_count": 6,
      "outputs": [
        {
          "output_type": "stream",
          "name": "stdout",
          "text": [
            "train dataset:  torch.Size([60000, 28, 28])\n",
            "test dataset :  torch.Size([10000, 28, 28])\n"
          ]
        }
      ]
    },
    {
      "cell_type": "code",
      "source": [
        "input_size = [*train_dataset.data.shape[1:]]\n",
        "num_epoches = 10\n",
        "batch_size = 32\n",
        "learning_rate = 0.01"
      ],
      "metadata": {
        "id": "Aagt-l9xT9oM"
      },
      "execution_count": 7,
      "outputs": []
    },
    {
      "cell_type": "code",
      "source": [
        "train_Dloader = DataLoader(train_ds , batch_size=batch_size , shuffle=True)\n",
        "val_Dloader   = DataLoader(val_ds , batch_size=batch_size , shuffle=True )\n",
        "test_Dloader  = DataLoader(test_dataset , batch_size=batch_size , shuffle=True)"
      ],
      "metadata": {
        "id": "bm8XlqbCWU9J"
      },
      "execution_count": 8,
      "outputs": []
    },
    {
      "cell_type": "code",
      "source": [
        "for data , label in train_Dloader :\n",
        "  print(data.shape , label.shape)\n",
        "  break"
      ],
      "metadata": {
        "colab": {
          "base_uri": "https://localhost:8080/"
        },
        "id": "aX5E8Z8UWUmE",
        "outputId": "342bab28-70f7-46f0-cdd9-4d8a2b6dfe50"
      },
      "execution_count": 9,
      "outputs": [
        {
          "output_type": "stream",
          "name": "stdout",
          "text": [
            "torch.Size([32, 1, 28, 28]) torch.Size([32])\n"
          ]
        }
      ]
    },
    {
      "cell_type": "code",
      "source": [
        "plt.imshow(data[6, 0 , : , :])"
      ],
      "metadata": {
        "colab": {
          "base_uri": "https://localhost:8080/",
          "height": 448
        },
        "id": "LOm4IJO9Xpj2",
        "outputId": "7cf4706b-e448-418e-b1ec-e5a5e18e957a"
      },
      "execution_count": 10,
      "outputs": [
        {
          "output_type": "execute_result",
          "data": {
            "text/plain": [
              "<matplotlib.image.AxesImage at 0x7dd03d0850f0>"
            ]
          },
          "metadata": {},
          "execution_count": 10
        },
        {
          "output_type": "display_data",
          "data": {
            "text/plain": [
              "<Figure size 640x480 with 1 Axes>"
            ],
            "image/png": "[encoded data removed]"
          },
          "metadata": {}
        }
      ]
    },
    {
      "cell_type": "code",
      "source": [
        "class_names = ['T-shirt/top', 'Trouser', 'Pullover', 'Dress', 'Coat','Sandal', 'Shirt', 'Sneaker', 'Bag', 'Ankle boot']\n",
        "plt.figure(figsize=(10,10))\n",
        "for i in range(25):\n",
        "    plt.subplot(5,5,i+1)\n",
        "    plt.xticks([])\n",
        "    plt.yticks([])\n",
        "    plt.grid(False)\n",
        "    plt.imshow(data[i , 0 , : , : ])\n",
        "    plt.xlabel(class_names[label[i]])\n",
        "plt.show()"
      ],
      "metadata": {
        "colab": {
          "base_uri": "https://localhost:8080/",
          "height": 826
        },
        "id": "ZEKw_nuoaBp0",
        "outputId": "42fe15ba-60e1-4493-d18f-84a5a2be482a"
      },
      "execution_count": 11,
      "outputs": [
        {
          "output_type": "display_data",
          "data": {
            "text/plain": [
              "<Figure size 1000x1000 with 25 Axes>"
            ],
            "image/png": "[encoded data removed]"
          },
          "metadata": {}
        }
      ]
    },
    {
      "cell_type": "code",
      "source": [
        "class NeuralNet(nn.Module):\n",
        "  def __init__(self , in_feature:int , output_feature:int , *args , **kwargs):\n",
        "    super().__init__(*args , **kwargs)\n",
        "    self.flatten = nn.Flatten()\n",
        "    self.fc1 = nn.Linear(in_feature , 300)\n",
        "    self.bn1 = nn.BatchNorm1d(300)\n",
        "    self.ReLU = nn.ReLU()\n",
        "    self.fc2 = nn.Linear(300 , 100)\n",
        "    self.bn2 = nn.BatchNorm1d(100)\n",
        "    self.fc3 = nn.Linear(100 , output_feature)\n",
        "  def forward(self , x):\n",
        "    x = self.flatten(x)\n",
        "    output = self.ReLU(self.bn1(self.fc1(x)))\n",
        "    # output = nn.GELU()(output)\n",
        "    output = self.ReLU (self.bn2(self.fc2(output)))\n",
        "    # output = nn.GELU()(output)\n",
        "    return self.fc3(output)\n",
        "\n"
      ],
      "metadata": {
        "id": "Ieyg5t08bFdU"
      },
      "execution_count": 36,
      "outputs": []
    },
    {
      "cell_type": "code",
      "source": [
        "model = NeuralNet(784 , 10).to(device)\n",
        "\n",
        "model"
      ],
      "metadata": {
        "id": "3Zut3KTnim5t",
        "colab": {
          "base_uri": "https://localhost:8080/"
        },
        "outputId": "3415a839-ea03-40ea-9b4a-448e225869f9"
      },
      "execution_count": 37,
      "outputs": [
        {
          "output_type": "execute_result",
          "data": {
            "text/plain": [
              "NeuralNet(\n",
              "  (flatten): Flatten(start_dim=1, end_dim=-1)\n",
              "  (fc1): Linear(in_features=784, out_features=300, bias=True)\n",
              "  (bn1): BatchNorm1d(300, eps=1e-05, momentum=0.1, affine=True, track_running_stats=True)\n",
              "  (ReLU): ReLU()\n",
              "  (fc2): Linear(in_features=300, out_features=100, bias=True)\n",
              "  (bn2): BatchNorm1d(100, eps=1e-05, momentum=0.1, affine=True, track_running_stats=True)\n",
              "  (fc3): Linear(in_features=100, out_features=10, bias=True)\n",
              ")"
            ]
          },
          "metadata": {},
          "execution_count": 37
        }
      ]
    },
    {
      "cell_type": "code",
      "source": [
        "#  A parameter that is assigned as an attribute inside a custom model is registered as a model parameter and is thus returned by the caller model. parameters().\n",
        "model.parameters()"
      ],
      "metadata": {
        "colab": {
          "base_uri": "https://localhost:8080/"
        },
        "id": "rKijWTXvlXsR",
        "outputId": "8360ef0c-653a-4b25-cfb4-311b643fb7c9"
      },
      "execution_count": 38,
      "outputs": [
        {
          "output_type": "execute_result",
          "data": {
            "text/plain": [
              "<generator object Module.parameters at 0x7dd0355969d0>"
            ]
          },
          "metadata": {},
          "execution_count": 38
        }
      ]
    },
    {
      "cell_type": "code",
      "source": [
        "#numel : Returns the total number of elements in the input tensor Parameters\n",
        "counter = 1\n",
        "for item in model.parameters():\n",
        "  print(\"model parameters : \" , counter)\n",
        "  print(item.size())\n",
        "  print(item.numel())\n",
        "  counter +=1"
      ],
      "metadata": {
        "colab": {
          "base_uri": "https://localhost:8080/"
        },
        "id": "cPuaO9ubj844",
        "outputId": "b10b920a-51bd-4c3e-f107-d05b66be5b3a"
      },
      "execution_count": 39,
      "outputs": [
        {
          "output_type": "stream",
          "name": "stdout",
          "text": [
            "model parameters :  1\n",
            "torch.Size([300, 784])\n",
            "235200\n",
            "model parameters :  2\n",
            "torch.Size([300])\n",
            "300\n",
            "model parameters :  3\n",
            "torch.Size([300])\n",
            "300\n",
            "model parameters :  4\n",
            "torch.Size([300])\n",
            "300\n",
            "model parameters :  5\n",
            "torch.Size([100, 300])\n",
            "30000\n",
            "model parameters :  6\n",
            "torch.Size([100])\n",
            "100\n",
            "model parameters :  7\n",
            "torch.Size([100])\n",
            "100\n",
            "model parameters :  8\n",
            "torch.Size([100])\n",
            "100\n",
            "model parameters :  9\n",
            "torch.Size([10, 100])\n",
            "1000\n",
            "model parameters :  10\n",
            "torch.Size([10])\n",
            "10\n"
          ]
        }
      ]
    },
    {
      "cell_type": "code",
      "source": [
        "# Loss and Optimizer\n",
        "criterion = nn.CrossEntropyLoss()\n",
        "optimizer = optim.Adam(model.parameters() , lr=learning_rate)\n"
      ],
      "metadata": {
        "id": "tNk1vgDgkx1Q"
      },
      "execution_count": 40,
      "outputs": []
    },
    {
      "cell_type": "code",
      "source": [
        "num_epoches = 5\n",
        "best_vloss = 1_000_000.\n",
        "train_losses, val_losses = [], []\n",
        "\n",
        "# Train & validate Network\n",
        "for epoch in range(num_epoches):\n",
        "\n",
        "    print(f'EPOCH {epoch + 1}:')\n",
        "\n",
        "    running_loss = 0.\n",
        "    last_loss = 0.\n",
        "\n",
        "    model.train(True)\n",
        "    for batch_idx, (data, targets) in enumerate(tqdm(train_Dloader)):\n",
        "\n",
        "        data = data.to(device=device)\n",
        "        targets = targets.to(device=device)\n",
        "\n",
        "        # Make predictions for this batch (forward)\n",
        "        outputs = model(data)\n",
        "\n",
        "        # Compute the loss and its gradients\n",
        "        loss = criterion(outputs, targets)\n",
        "        optimizer.zero_grad()\n",
        "        loss.backward()\n",
        "\n",
        "        # Adjust learning weights\n",
        "        optimizer.step()\n",
        "\n",
        "        running_loss += loss.item()\n",
        "\n",
        "        if batch_idx % 500 == 499:\n",
        "            last_loss = running_loss / 500 # loss per batch\n",
        "            print(f'batch {batch_idx + 1} loss: {last_loss}')\n",
        "            running_loss = 0.\n",
        "\n",
        "    running_vloss = 0.0\n",
        "    model.eval()\n",
        "\n",
        "    # Disable gradient computation and reduce memory consumption.\n",
        "    with torch.no_grad():\n",
        "        for i, (vinputs, vlabels) in enumerate(val_Dloader):\n",
        "            voutputs = model(vinputs)\n",
        "            vloss = criterion(voutputs, vlabels)\n",
        "            running_vloss += vloss\n",
        "    avg_vloss = running_vloss / (i + 1)\n",
        "    print(f'LOSS train {last_loss} valid {avg_vloss}')\n",
        "\n",
        "    train_losses.append(last_loss)\n",
        "    val_losses.append(avg_vloss)\n",
        "\n",
        "    epoch += 1\n"
      ],
      "metadata": {
        "id": "tXf7l9wvnuUU",
        "colab": {
          "base_uri": "https://localhost:8080/"
        },
        "outputId": "83ecf92c-e21a-4a08-ae7d-08190d0619b9"
      },
      "execution_count": 43,
      "outputs": [
        {
          "output_type": "stream",
          "name": "stdout",
          "text": [
            "EPOCH 1:\n"
          ]
        },
        {
          "output_type": "stream",
          "name": "stderr",
          "text": [
            " 33%|███▎      | 517/1563 [00:04<00:09, 111.28it/s]"
          ]
        },
        {
          "output_type": "stream",
          "name": "stdout",
          "text": [
            "batch 500 loss: 0.27878688844293353\n"
          ]
        },
        {
          "output_type": "stream",
          "name": "stderr",
          "text": [
            " 65%|██████▍   | 1012/1563 [00:09<00:07, 71.83it/s]"
          ]
        },
        {
          "output_type": "stream",
          "name": "stdout",
          "text": [
            "batch 1000 loss: 0.2993164233341813\n"
          ]
        },
        {
          "output_type": "stream",
          "name": "stderr",
          "text": [
            " 97%|█████████▋| 1510/1563 [00:14<00:00, 105.26it/s]"
          ]
        },
        {
          "output_type": "stream",
          "name": "stdout",
          "text": [
            "batch 1500 loss: 0.29947856286913155\n"
          ]
        },
        {
          "output_type": "stream",
          "name": "stderr",
          "text": [
            "100%|██████████| 1563/1563 [00:15<00:00, 102.04it/s]\n"
          ]
        },
        {
          "output_type": "stream",
          "name": "stdout",
          "text": [
            "LOSS train 0.29947856286913155 valid 0.31290724873542786\n",
            "EPOCH 2:\n"
          ]
        },
        {
          "output_type": "stream",
          "name": "stderr",
          "text": [
            " 33%|███▎      | 512/1563 [00:05<00:13, 75.44it/s]"
          ]
        },
        {
          "output_type": "stream",
          "name": "stdout",
          "text": [
            "batch 500 loss: 0.2749584150463343\n"
          ]
        },
        {
          "output_type": "stream",
          "name": "stderr",
          "text": [
            " 65%|██████▌   | 1021/1563 [00:10<00:05, 106.23it/s]"
          ]
        },
        {
          "output_type": "stream",
          "name": "stdout",
          "text": [
            "batch 1000 loss: 0.27877590600401164\n"
          ]
        },
        {
          "output_type": "stream",
          "name": "stderr",
          "text": [
            " 97%|█████████▋| 1518/1563 [00:15<00:00, 102.93it/s]"
          ]
        },
        {
          "output_type": "stream",
          "name": "stdout",
          "text": [
            "batch 1500 loss: 0.2831707125157118\n"
          ]
        },
        {
          "output_type": "stream",
          "name": "stderr",
          "text": [
            "100%|██████████| 1563/1563 [00:15<00:00, 99.34it/s] \n"
          ]
        },
        {
          "output_type": "stream",
          "name": "stdout",
          "text": [
            "LOSS train 0.2831707125157118 valid 0.31414106488227844\n",
            "EPOCH 3:\n"
          ]
        },
        {
          "output_type": "stream",
          "name": "stderr",
          "text": [
            " 33%|███▎      | 519/1563 [00:05<00:09, 106.04it/s]"
          ]
        },
        {
          "output_type": "stream",
          "name": "stdout",
          "text": [
            "batch 500 loss: 0.2625982019156218\n"
          ]
        },
        {
          "output_type": "stream",
          "name": "stderr",
          "text": [
            " 65%|██████▌   | 1017/1563 [00:10<00:05, 100.50it/s]"
          ]
        },
        {
          "output_type": "stream",
          "name": "stdout",
          "text": [
            "batch 1000 loss: 0.2789301425144076\n"
          ]
        },
        {
          "output_type": "stream",
          "name": "stderr",
          "text": [
            " 97%|█████████▋| 1511/1563 [00:16<00:00, 99.80it/s]"
          ]
        },
        {
          "output_type": "stream",
          "name": "stdout",
          "text": [
            "batch 1500 loss: 0.2698044883161783\n"
          ]
        },
        {
          "output_type": "stream",
          "name": "stderr",
          "text": [
            "100%|██████████| 1563/1563 [00:16<00:00, 93.54it/s] \n"
          ]
        },
        {
          "output_type": "stream",
          "name": "stdout",
          "text": [
            "LOSS train 0.2698044883161783 valid 0.3107593059539795\n",
            "EPOCH 4:\n"
          ]
        },
        {
          "output_type": "stream",
          "name": "stderr",
          "text": [
            " 33%|███▎      | 513/1563 [00:05<00:10, 102.16it/s]"
          ]
        },
        {
          "output_type": "stream",
          "name": "stdout",
          "text": [
            "batch 500 loss: 0.25279276046156884\n"
          ]
        },
        {
          "output_type": "stream",
          "name": "stderr",
          "text": [
            " 65%|██████▍   | 1013/1563 [00:10<00:05, 100.74it/s]"
          ]
        },
        {
          "output_type": "stream",
          "name": "stdout",
          "text": [
            "batch 1000 loss: 0.2519674254246056\n"
          ]
        },
        {
          "output_type": "stream",
          "name": "stderr",
          "text": [
            " 97%|█████████▋| 1521/1563 [00:16<00:00, 95.43it/s]"
          ]
        },
        {
          "output_type": "stream",
          "name": "stdout",
          "text": [
            "batch 1500 loss: 0.25405820440128446\n"
          ]
        },
        {
          "output_type": "stream",
          "name": "stderr",
          "text": [
            "100%|██████████| 1563/1563 [00:16<00:00, 94.75it/s] \n"
          ]
        },
        {
          "output_type": "stream",
          "name": "stdout",
          "text": [
            "LOSS train 0.25405820440128446 valid 0.31828799843788147\n",
            "EPOCH 5:\n"
          ]
        },
        {
          "output_type": "stream",
          "name": "stderr",
          "text": [
            " 33%|███▎      | 511/1563 [00:05<00:11, 93.64it/s]"
          ]
        },
        {
          "output_type": "stream",
          "name": "stdout",
          "text": [
            "batch 500 loss: 0.241601756028831\n"
          ]
        },
        {
          "output_type": "stream",
          "name": "stderr",
          "text": [
            " 65%|██████▌   | 1017/1563 [00:11<00:05, 101.70it/s]"
          ]
        },
        {
          "output_type": "stream",
          "name": "stdout",
          "text": [
            "batch 1000 loss: 0.24116872235387563\n"
          ]
        },
        {
          "output_type": "stream",
          "name": "stderr",
          "text": [
            " 97%|█████████▋| 1512/1563 [00:16<00:00, 100.22it/s]"
          ]
        },
        {
          "output_type": "stream",
          "name": "stdout",
          "text": [
            "batch 1500 loss: 0.2519501379355788\n"
          ]
        },
        {
          "output_type": "stream",
          "name": "stderr",
          "text": [
            "100%|██████████| 1563/1563 [00:17<00:00, 89.96it/s]\n"
          ]
        },
        {
          "output_type": "stream",
          "name": "stdout",
          "text": [
            "LOSS train 0.2519501379355788 valid 0.32755565643310547\n"
          ]
        }
      ]
    },
    {
      "cell_type": "code",
      "source": [
        "plt.plot(train_losses , label =\"Training loss\")\n",
        "plt.plot(val_losses , label =\"Validation loss\")\n",
        "plt.legend(frameon = False)"
      ],
      "metadata": {
        "colab": {
          "base_uri": "https://localhost:8080/",
          "height": 448
        },
        "id": "-F6m1Vu_ieJ7",
        "outputId": "3cdc2c55-aafb-4753-d7fc-d4afb48cf672"
      },
      "execution_count": 44,
      "outputs": [
        {
          "output_type": "execute_result",
          "data": {
            "text/plain": [
              "<matplotlib.legend.Legend at 0x7dd03aca36a0>"
            ]
          },
          "metadata": {},
          "execution_count": 44
        },
        {
          "output_type": "display_data",
          "data": {
            "text/plain": [
              "<Figure size 640x480 with 1 Axes>"
            ],
            "image/png": "[encoded data removed]"
          },
          "metadata": {}
        }
      ]
    },
    {
      "cell_type": "code",
      "source": [],
      "metadata": {
        "id": "eeMiXDqFmdtX"
      },
      "execution_count": 42,
      "outputs": []
    }
  ]
}