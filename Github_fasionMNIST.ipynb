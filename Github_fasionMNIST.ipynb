{
  "nbformat": 4,
  "nbformat_minor": 0,
  "metadata": {
    "colab": {
      "provenance": [],
      "authorship_tag": "ABX9TyOw/2WCTjjDdNUDknBkNJg/",
      "include_colab_link": true
    },
    "kernelspec": {
      "name": "python3",
      "display_name": "Python 3"
    },
    "language_info": {
      "name": "python"
    }
  },
  "cells": [
    {
      "cell_type": "markdown",
      "metadata": {
        "id": "view-in-github",
        "colab_type": "text"
      },
      "source": [
        "<a href=\"https://colab.research.google.com/github/aiaaee/FasionMNIST/blob/main/Github_fasionMNIST.ipynb\" target=\"_parent\"><img src=\"https://colab.research.google.com/assets/colab-badge.svg\" alt=\"Open In Colab\"/></a>"
      ]
    },
    {
      "cell_type": "code",
      "source": [
        "import pandas as pd\n",
        "import numpy as np\n",
        "import matplotlib.pyplot as plt\n",
        "import os\n",
        "import sys\n",
        "import shutil\n",
        "import torch\n",
        "from torch import nn , optim\n",
        "from torch.utils.data import DataLoader\n",
        "from torchvision import datasets\n",
        "from torchvision.transforms import ToTensor\n",
        "from tqdm import tqdm\n",
        "from torch.utils.data import random_split"
      ],
      "metadata": {
        "id": "yepr3a4-RisU"
      },
      "execution_count": 4,
      "outputs": []
    },
    {
      "cell_type": "code",
      "execution_count": 8,
      "metadata": {
        "colab": {
          "base_uri": "https://localhost:8080/"
        },
        "id": "GujzS8qnPttY",
        "outputId": "66398ec1-70c1-409c-be30-fe3b31ee82d1"
      },
      "outputs": [
        {
          "output_type": "execute_result",
          "data": {
            "text/plain": [
              "device(type='cpu')"
            ]
          },
          "metadata": {},
          "execution_count": 8
        }
      ],
      "source": [
        "device = torch.device(\"cuda\" if torch.cuda.is_available() else \"cpu\")\n",
        "device"
      ]
    },
    {
      "cell_type": "code",
      "source": [
        "train_dataset = datasets.FashionMNIST('./data' , train=True , download=True , transform=ToTensor())\n",
        "test_dataset = datasets.FashionMNIST('./data' , train=False , download=True ,  transform=ToTensor())"
      ],
      "metadata": {
        "id": "GJNjJZrRSUmb"
      },
      "execution_count": 10,
      "outputs": []
    },
    {
      "cell_type": "code",
      "source": [
        "train_ds , val_ds = random_split(train_dataset , [50000 , 10000])"
      ],
      "metadata": {
        "id": "kg27Q5X1TfWm"
      },
      "execution_count": 14,
      "outputs": []
    },
    {
      "cell_type": "code",
      "source": [
        "print('train dataset: '  , train_dataset.data.shape)\n",
        "print('test dataset : '  , test_dataset.data.shape )"
      ],
      "metadata": {
        "colab": {
          "base_uri": "https://localhost:8080/"
        },
        "id": "0WasCSR3TyZJ",
        "outputId": "ab25457a-9bc2-4b6c-ff88-18eae1781c18"
      },
      "execution_count": 20,
      "outputs": [
        {
          "output_type": "stream",
          "name": "stdout",
          "text": [
            "train dataset:  torch.Size([60000, 28, 28])\n",
            "test dataset :  torch.Size([10000, 28, 28])\n"
          ]
        }
      ]
    },
    {
      "cell_type": "code",
      "source": [
        "input_size = [*train_dataset.data.shape[1:]]\n",
        "num_epoches = 10\n",
        "batch_size = 32\n",
        "learning_rate = 0.01"
      ],
      "metadata": {
        "id": "Aagt-l9xT9oM"
      },
      "execution_count": 30,
      "outputs": []
    },
    {
      "cell_type": "code",
      "source": [
        "train_Dloader = DataLoader(train_ds , batch_size=batch_size , shuffle=True)\n",
        "val_Dloader   = DataLoader(val_ds , batch_size=batch_size , shuffle=True )\n",
        "test_Dloader  = DataLoader(test_dataset , batch_size=batch_size)"
      ],
      "metadata": {
        "id": "bm8XlqbCWU9J"
      },
      "execution_count": 32,
      "outputs": []
    },
    {
      "cell_type": "code",
      "source": [
        "for data , label in train_Dloader :\n",
        "  print(data.shape , label.shape)\n",
        "  break"
      ],
      "metadata": {
        "colab": {
          "base_uri": "https://localhost:8080/"
        },
        "id": "aX5E8Z8UWUmE",
        "outputId": "3b969113-fdaf-4aa5-8c4d-d03595237274"
      },
      "execution_count": 35,
      "outputs": [
        {
          "output_type": "stream",
          "name": "stdout",
          "text": [
            "torch.Size([32, 1, 28, 28]) torch.Size([32])\n"
          ]
        }
      ]
    },
    {
      "cell_type": "code",
      "source": [
        "plt.imshow(data[6, 0 , : , :])"
      ],
      "metadata": {
        "colab": {
          "base_uri": "https://localhost:8080/",
          "height": 448
        },
        "id": "LOm4IJO9Xpj2",
        "outputId": "f5142dda-11df-449a-a713-af0ea3319a92"
      },
      "execution_count": 59,
      "outputs": [
        {
          "output_type": "execute_result",
          "data": {
            "text/plain": [
              "<matplotlib.image.AxesImage at 0x798b923f7a30>"
            ]
          },
          "metadata": {},
          "execution_count": 59
        },
        {
          "output_type": "display_data",
          "data": {
            "text/plain": [
              "<Figure size 640x480 with 1 Axes>"
            ],
            "image/png": "[encoded data removed]"
          },
          "metadata": {}
        }
      ]
    }
  ]
}