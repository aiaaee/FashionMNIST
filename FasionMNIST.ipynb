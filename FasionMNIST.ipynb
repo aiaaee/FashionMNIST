{
  "nbformat": 4,
  "nbformat_minor": 0,
  "metadata": {
    "colab": {
      "provenance": [],
      "authorship_tag": "ABX9TyP+KkVBvDlHjU5rQi2DsVUA",
      "include_colab_link": true
    },
    "kernelspec": {
      "name": "python3",
      "display_name": "Python 3"
    },
    "language_info": {
      "name": "python"
    }
  },
  "cells": [
    {
      "cell_type": "markdown",
      "metadata": {
        "id": "view-in-github",
        "colab_type": "text"
      },
      "source": [
        "<a href=\"https://colab.research.google.com/github/aiaaee/FasionMNIST/blob/main/FasionMNIST.ipynb\" target=\"_parent\"><img src=\"https://colab.research.google.com/assets/colab-badge.svg\" alt=\"Open In Colab\"/></a>"
      ]
    },
    {
      "cell_type": "markdown",
      "source": [
        "### Device\n"
      ],
      "metadata": {
        "id": "qhMA-TP4G9Z8"
      }
    },
    {
      "cell_type": "code",
      "source": [
        "device = torch.device(\"cuda\" if torch.cuda.is_available() else \"cpu\")\n",
        "device"
      ],
      "metadata": {
        "colab": {
          "base_uri": "https://localhost:8080/"
        },
        "id": "j5s5Kq8SG734",
        "outputId": "d8a1d187-406d-4b58-a1ba-87aac5766f51"
      },
      "execution_count": 14,
      "outputs": [
        {
          "output_type": "execute_result",
          "data": {
            "text/plain": [
              "device(type='cpu')"
            ]
          },
          "metadata": {},
          "execution_count": 14
        }
      ]
    },
    {
      "cell_type": "markdown",
      "source": [
        "### Imports"
      ],
      "metadata": {
        "id": "pNjrUHlBGeDK"
      }
    },
    {
      "cell_type": "code",
      "execution_count": 15,
      "metadata": {
        "id": "s4Hg_rpi9PXz"
      },
      "outputs": [],
      "source": [
        "import os\n",
        "import sys\n",
        "import shutil\n",
        "import matplotlib.pyplot as plt\n",
        "import torch\n",
        "from torch import nn , optim\n",
        "from torch.utils.data import DataLoader\n",
        "from torchvision import datasets\n",
        "from torchvision.transforms import ToTensor\n",
        "from tqdm import tqdm\n",
        "from torch.utils.data import random_split\n"
      ]
    },
    {
      "cell_type": "code",
      "source": [
        "train_dataset = datasets.FashionMNIST(root='./data' , train=True , download=True , transform=ToTensor())\n",
        "test_dataset = datasets.FashionMNIST(root='./data' , train=False , download=True , transform=ToTensor())\n",
        "train_ds , val_ds = random_split(train_dataset , [50000 , 10000])\n"
      ],
      "metadata": {
        "id": "ZFxejhVDGNs6"
      },
      "execution_count": 16,
      "outputs": []
    },
    {
      "cell_type": "code",
      "source": [
        "# Each image in the Fashion MNIST dataset is 28 pixels in height and 28 pixels in width.\n",
        "print(\"train Dataset : \" , train_dataset.data.shape)\n",
        "print(\"test  Dataset : \" , test_dataset.data.shape)"
      ],
      "metadata": {
        "colab": {
          "base_uri": "https://localhost:8080/"
        },
        "id": "bpXRHATBRboE",
        "outputId": "94ad2a5f-22c2-466a-82a1-66fb5ee45164"
      },
      "execution_count": 17,
      "outputs": [
        {
          "output_type": "stream",
          "name": "stdout",
          "text": [
            "train Dataset :  torch.Size([60000, 28, 28])\n",
            "test  Dataset :  torch.Size([10000, 28, 28])\n"
          ]
        }
      ]
    },
    {
      "cell_type": "code",
      "source": [
        "## Hyperparameters\n",
        "# * single star means that the variable will be a tuple of extra parameters that were supplied to the function.\n",
        "input_size = [*train_dataset.data.shape[1:]]\n",
        "number_epochs = 10\n",
        "batch_size = 32\n",
        "learning_rate = 0.01"
      ],
      "metadata": {
        "id": "uxw1ohSdQaFd"
      },
      "execution_count": 18,
      "outputs": []
    },
    {
      "cell_type": "code",
      "source": [
        "train_dataLoader = DataLoader(train_ds , batch_size=batch_size , shuffle=True)\n",
        "val_dataLoader  =  DataLoader(val_ds , batch_size=batch_size , shuffle=True)\n",
        "test_dataLoader = DataLoader(test_dataset , batch_size = batch_size)"
      ],
      "metadata": {
        "id": "yyMRnWVRQc6l"
      },
      "execution_count": 19,
      "outputs": []
    },
    {
      "cell_type": "code",
      "source": [
        "for data , label in train_dataLoader :\n",
        "  print(data.size())\n",
        "  print(label.size())\n",
        "  break"
      ],
      "metadata": {
        "colab": {
          "base_uri": "https://localhost:8080/"
        },
        "id": "8EwsUEFKWbhH",
        "outputId": "50083ce8-732d-48ea-bb86-672396ad7312"
      },
      "execution_count": 20,
      "outputs": [
        {
          "output_type": "stream",
          "name": "stdout",
          "text": [
            "torch.Size([32, 1, 28, 28])\n",
            "torch.Size([32])\n"
          ]
        }
      ]
    },
    {
      "cell_type": "code",
      "source": [
        "sample_idx = torch.randint(len(train_dataset), size=(1,)).item()\n",
        "img, label = train_dataset[sample_idx]\n",
        "plt.imshow(img.squeeze(), cmap=\"gray\")\n",
        "plt.show()"
      ],
      "metadata": {
        "colab": {
          "base_uri": "https://localhost:8080/",
          "height": 430
        },
        "id": "S0iyyPvzWvwj",
        "outputId": "b4ce7871-715d-4132-a67e-a0cb67efc163"
      },
      "execution_count": 21,
      "outputs": [
        {
          "output_type": "display_data",
          "data": {
            "text/plain": [
              "<Figure size 640x480 with 1 Axes>"
            ],
            "image/png": "[encoded data removed]"
          },
          "metadata": {}
        }
      ]
    },
    {
      "cell_type": "code",
      "source": [
        "class NN(nn.Module):\n",
        "  def __init__(self , in_feature : int , out_feature : int , *args , **kwargs):\n",
        "    super().__init__( *args , **kwargs)\n",
        "    self.flatten = nn.Flatten()\n",
        "    self.fc1 = nn.Linear(in_feature , out_features=300)\n",
        "    self.bn1 = nn.BatchNorm1d(300)\n",
        "    self.fc2 = nn.Linear(in_features=300 , out_features=100)\n",
        "    self.bn2 = self.bn2 = nn.BatchNorm1d(100)\n",
        "    self.fc3 = nn.Linear(100 , out_features=out_feature)\n",
        "\n",
        "  def forward(self , x:torch.Tensor):\n",
        "    x = self.flatten(x)\n",
        "    output = self.bn1(self.fc1(x))\n",
        "    output = nn.GELU()(output)\n",
        "    output = self.bn2(self.fc1(x))\n",
        "    output = nn.GELU()(output)\n",
        "    return self.fc3(output)\n",
        "\n"
      ],
      "metadata": {
        "id": "pvA6N39Jd4Yl"
      },
      "execution_count": 22,
      "outputs": []
    },
    {
      "cell_type": "code",
      "source": [
        "model = NN(728 , 10).to(device)\n",
        "model"
      ],
      "metadata": {
        "colab": {
          "base_uri": "https://localhost:8080/"
        },
        "id": "3AENd635ZZku",
        "outputId": "f897ad94-5ec0-4a31-a8c2-84f9450aba0c"
      },
      "execution_count": 23,
      "outputs": [
        {
          "output_type": "execute_result",
          "data": {
            "text/plain": [
              "NN(\n",
              "  (flatten): Flatten(start_dim=1, end_dim=-1)\n",
              "  (fc1): Linear(in_features=728, out_features=300, bias=True)\n",
              "  (bn1): BatchNorm1d(300, eps=1e-05, momentum=0.1, affine=True, track_running_stats=True)\n",
              "  (fc2): Linear(in_features=300, out_features=100, bias=True)\n",
              "  (bn2): BatchNorm1d(100, eps=1e-05, momentum=0.1, affine=True, track_running_stats=True)\n",
              "  (fc3): Linear(in_features=100, out_features=10, bias=True)\n",
              ")"
            ]
          },
          "metadata": {},
          "execution_count": 23
        }
      ]
    },
    {
      "cell_type": "code",
      "source": [
        "counter = 1\n",
        "for item in model.parameters():\n",
        "  print(\"Model Parameters : \" , counter)\n",
        "  print(item.size())\n",
        "  print(item.numel())\n",
        "  counter += 1\n"
      ],
      "metadata": {
        "colab": {
          "base_uri": "https://localhost:8080/"
        },
        "id": "V4D0P-o7e2qI",
        "outputId": "5f33f940-1c08-4611-a12b-d4ede2f248dc"
      },
      "execution_count": 24,
      "outputs": [
        {
          "output_type": "stream",
          "name": "stdout",
          "text": [
            "Model Parameters :  1\n",
            "torch.Size([300, 728])\n",
            "218400\n",
            "Model Parameters :  2\n",
            "torch.Size([300])\n",
            "300\n",
            "Model Parameters :  3\n",
            "torch.Size([300])\n",
            "300\n",
            "Model Parameters :  4\n",
            "torch.Size([300])\n",
            "300\n",
            "Model Parameters :  5\n",
            "torch.Size([100, 300])\n",
            "30000\n",
            "Model Parameters :  6\n",
            "torch.Size([100])\n",
            "100\n",
            "Model Parameters :  7\n",
            "torch.Size([100])\n",
            "100\n",
            "Model Parameters :  8\n",
            "torch.Size([100])\n",
            "100\n",
            "Model Parameters :  9\n",
            "torch.Size([10, 100])\n",
            "1000\n",
            "Model Parameters :  10\n",
            "torch.Size([10])\n",
            "10\n"
          ]
        }
      ]
    },
    {
      "cell_type": "code",
      "source": [
        "# Loss and optimizer\n",
        "criterion = nn.CrossEntropyLoss()\n",
        "optimizer = optim.Adam(model.parameters(), lr=learning_rate)"
      ],
      "metadata": {
        "id": "RwFpgHw2h2Co"
      },
      "execution_count": 25,
      "outputs": []
    },
    {
      "cell_type": "code",
      "source": [
        "# epoch_number = 10\n",
        "# best_vloss = 1_000_000.\n",
        "# train_losses, val_losses = [], []\n",
        "\n",
        "# # Train & validate Network\n",
        "# for epoch in range(number_epochs):\n",
        "\n",
        "#     print(f'EPOCH {epoch + 1}:')\n",
        "\n",
        "#     running_loss = 0.\n",
        "#     last_loss = 0.\n",
        "\n",
        "#     model.train(True)\n",
        "#     for batch_idx, (data, targets) in enumerate(tqdm(train_dataLoader)):\n",
        "\n",
        "#         data = data.to(device=device)\n",
        "#         targets = targets.to(device=device)\n",
        "\n",
        "#         # Make predictions for this batch (forward)\n",
        "#         outputs = model(data)\n",
        "\n",
        "#         # Compute the loss and its gradients\n",
        "#         loss = criterion(outputs, targets)\n",
        "#         optimizer.zero_grad()\n",
        "#         loss.backward()\n",
        "\n",
        "#         # Adjust learning weights\n",
        "#         optimizer.step()\n",
        "\n",
        "#         running_loss += loss.item()\n",
        "\n",
        "#         if batch_idx % 500 == 499:\n",
        "#             last_loss = running_loss / 500 # loss per batch\n",
        "#             print(f'batch {batch_idx + 1} loss: {last_loss}')\n",
        "#             running_loss = 0.\n",
        "\n",
        "#     running_vloss = 0.0\n",
        "#     model.eval()\n",
        "\n",
        "#     epoch_number += 1\n"
      ],
      "metadata": {
        "id": "Yu498jiZkBtY"
      },
      "execution_count": 26,
      "outputs": []
    },
    {
      "cell_type": "code",
      "source": [
        "\n"
      ],
      "metadata": {
        "id": "FTFSoRh3Oaz-"
      },
      "execution_count": 26,
      "outputs": []
    },
    {
      "cell_type": "code",
      "source": [
        "\n"
      ],
      "metadata": {
        "id": "HnvXX31so1jG"
      },
      "execution_count": 26,
      "outputs": []
    }
  ]
}